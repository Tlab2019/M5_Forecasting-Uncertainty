{
 "cells": [
  {
   "cell_type": "markdown",
   "metadata": {},
   "source": [
    "## **データ整理**"
   ]
  },
  {
   "cell_type": "code",
   "execution_count": 35,
   "metadata": {},
   "outputs": [],
   "source": [
    "import pandas as pd\n",
    "import numpy as np\n",
    "import matplotlib.pyplot as plt\n",
    "import glob\n",
    "import os\n",
    "from tqdm import tqdm\n",
    "\n",
    "from myUtils import reduce_mem_usage, get_agg_df\n",
    "\n",
    "import gc"
   ]
  },
  {
   "cell_type": "markdown",
   "metadata": {},
   "source": [
    "#### [参考]submissionファイルに合わせてaggurigationした学習データ作成\n",
    "https://www.kaggle.com/sachina/convert-accuracy-to-uncertainty-poisson"
   ]
  },
  {
   "cell_type": "code",
   "execution_count": 36,
   "metadata": {},
   "outputs": [],
   "source": [
    "sales_train_val = pd.read_csv(os.path.join(\"rawdata\",\"sales_train_evaluation.csv\")) # データの読み出し"
   ]
  },
  {
   "cell_type": "code",
   "execution_count": 37,
   "metadata": {},
   "outputs": [],
   "source": [
    "#ppred_path = os.path.join(\"submission_point\",\"M5-Forecasting-EDA_FE_and_Modeling_ppred_removed_negetiveV.csv\")\n",
    "#ppred_path = os.path.join(\"submission_point\",\"SoTA-NB_ppred_removed_NegetiveV_validation_is_predicted.csv\")\n",
    "#ppred_path = os.path.join(\"submission_point\",\"SoTA-NB_ppred_removed_NegetiveV_validation_is_predicted_TrainValid.csv\")\n",
    "#ppred_path = os.path.join(\"submission_point\",\"MAandLightGBM_ppred_submission.csv\")\n",
    "#ppred_path = os.path.join(\"submission_point\",\"M5-Dark_Witch_Time_by_Store_submission.csv\")\n",
    "#ppred_path = os.path.join(\"submission_point\",\"xgboost_cv_UseValidPreds_foldday56_useday365.csv\")\n",
    "#ppred_path = os.path.join(\"submission_point\",\"xgboost_cv_UseValidPredsIsTrue_Negative2ZeroIsFalse_StepWisePredIsTrue_foldday56_useday365.csv\")\n",
    "#ppred_path = os.path.join(\"submission_point\",\"xgboost_cv_UseValidPredsIsTrue_Negative2ZeroIsTrue_foldday56_useday365_lagOlder28.csv\")\n",
    "ppred_path = os.path.join(\"submission_point\",\"XGBoost_features_ver3_submission.csv\")"
   ]
  },
  {
   "cell_type": "code",
   "execution_count": 38,
   "metadata": {},
   "outputs": [],
   "source": [
    "sub_ppred = pd.read_csv(ppred_path)"
   ]
  },
  {
   "cell_type": "code",
   "execution_count": 39,
   "metadata": {},
   "outputs": [
    {
     "data": {
      "text/html": [
       "<div>\n",
       "<style scoped>\n",
       "    .dataframe tbody tr th:only-of-type {\n",
       "        vertical-align: middle;\n",
       "    }\n",
       "\n",
       "    .dataframe tbody tr th {\n",
       "        vertical-align: top;\n",
       "    }\n",
       "\n",
       "    .dataframe thead th {\n",
       "        text-align: right;\n",
       "    }\n",
       "</style>\n",
       "<table border=\"1\" class=\"dataframe\">\n",
       "  <thead>\n",
       "    <tr style=\"text-align: right;\">\n",
       "      <th></th>\n",
       "      <th>id</th>\n",
       "      <th>F1</th>\n",
       "      <th>F2</th>\n",
       "      <th>F3</th>\n",
       "      <th>F4</th>\n",
       "      <th>F5</th>\n",
       "      <th>F6</th>\n",
       "      <th>F7</th>\n",
       "      <th>F8</th>\n",
       "      <th>F9</th>\n",
       "      <th>...</th>\n",
       "      <th>F19</th>\n",
       "      <th>F20</th>\n",
       "      <th>F21</th>\n",
       "      <th>F22</th>\n",
       "      <th>F23</th>\n",
       "      <th>F24</th>\n",
       "      <th>F25</th>\n",
       "      <th>F26</th>\n",
       "      <th>F27</th>\n",
       "      <th>F28</th>\n",
       "    </tr>\n",
       "  </thead>\n",
       "  <tbody>\n",
       "    <tr>\n",
       "      <td>0</td>\n",
       "      <td>FOODS_1_001_CA_1_validation</td>\n",
       "      <td>2.000000</td>\n",
       "      <td>0.000000</td>\n",
       "      <td>0.000000</td>\n",
       "      <td>0.000000</td>\n",
       "      <td>0.000000</td>\n",
       "      <td>1.000000</td>\n",
       "      <td>1.000000</td>\n",
       "      <td>0.000000</td>\n",
       "      <td>6.000000</td>\n",
       "      <td>...</td>\n",
       "      <td>2.000000</td>\n",
       "      <td>3.000000</td>\n",
       "      <td>1.000000</td>\n",
       "      <td>0.000000</td>\n",
       "      <td>0.000000</td>\n",
       "      <td>0.000000</td>\n",
       "      <td>1.000000</td>\n",
       "      <td>0.000000</td>\n",
       "      <td>0.000000</td>\n",
       "      <td>0.000000</td>\n",
       "    </tr>\n",
       "    <tr>\n",
       "      <td>1</td>\n",
       "      <td>FOODS_1_001_CA_2_validation</td>\n",
       "      <td>0.000000</td>\n",
       "      <td>3.000000</td>\n",
       "      <td>0.000000</td>\n",
       "      <td>0.000000</td>\n",
       "      <td>0.000000</td>\n",
       "      <td>1.000000</td>\n",
       "      <td>4.000000</td>\n",
       "      <td>0.000000</td>\n",
       "      <td>0.000000</td>\n",
       "      <td>...</td>\n",
       "      <td>1.000000</td>\n",
       "      <td>0.000000</td>\n",
       "      <td>0.000000</td>\n",
       "      <td>1.000000</td>\n",
       "      <td>1.000000</td>\n",
       "      <td>0.000000</td>\n",
       "      <td>0.000000</td>\n",
       "      <td>1.000000</td>\n",
       "      <td>2.000000</td>\n",
       "      <td>0.000000</td>\n",
       "    </tr>\n",
       "    <tr>\n",
       "      <td>2</td>\n",
       "      <td>FOODS_1_001_CA_3_validation</td>\n",
       "      <td>1.000000</td>\n",
       "      <td>0.000000</td>\n",
       "      <td>1.000000</td>\n",
       "      <td>0.000000</td>\n",
       "      <td>8.000000</td>\n",
       "      <td>1.000000</td>\n",
       "      <td>0.000000</td>\n",
       "      <td>0.000000</td>\n",
       "      <td>1.000000</td>\n",
       "      <td>...</td>\n",
       "      <td>1.000000</td>\n",
       "      <td>2.000000</td>\n",
       "      <td>2.000000</td>\n",
       "      <td>0.000000</td>\n",
       "      <td>0.000000</td>\n",
       "      <td>1.000000</td>\n",
       "      <td>0.000000</td>\n",
       "      <td>3.000000</td>\n",
       "      <td>2.000000</td>\n",
       "      <td>2.000000</td>\n",
       "    </tr>\n",
       "    <tr>\n",
       "      <td>3</td>\n",
       "      <td>FOODS_1_001_CA_4_validation</td>\n",
       "      <td>0.000000</td>\n",
       "      <td>1.000000</td>\n",
       "      <td>0.000000</td>\n",
       "      <td>0.000000</td>\n",
       "      <td>0.000000</td>\n",
       "      <td>0.000000</td>\n",
       "      <td>1.000000</td>\n",
       "      <td>0.000000</td>\n",
       "      <td>0.000000</td>\n",
       "      <td>...</td>\n",
       "      <td>1.000000</td>\n",
       "      <td>0.000000</td>\n",
       "      <td>0.000000</td>\n",
       "      <td>0.000000</td>\n",
       "      <td>0.000000</td>\n",
       "      <td>1.000000</td>\n",
       "      <td>1.000000</td>\n",
       "      <td>0.000000</td>\n",
       "      <td>0.000000</td>\n",
       "      <td>0.000000</td>\n",
       "    </tr>\n",
       "    <tr>\n",
       "      <td>4</td>\n",
       "      <td>FOODS_1_001_TX_1_validation</td>\n",
       "      <td>0.000000</td>\n",
       "      <td>0.000000</td>\n",
       "      <td>1.000000</td>\n",
       "      <td>0.000000</td>\n",
       "      <td>1.000000</td>\n",
       "      <td>0.000000</td>\n",
       "      <td>1.000000</td>\n",
       "      <td>1.000000</td>\n",
       "      <td>1.000000</td>\n",
       "      <td>...</td>\n",
       "      <td>1.000000</td>\n",
       "      <td>1.000000</td>\n",
       "      <td>1.000000</td>\n",
       "      <td>1.000000</td>\n",
       "      <td>5.000000</td>\n",
       "      <td>0.000000</td>\n",
       "      <td>2.000000</td>\n",
       "      <td>2.000000</td>\n",
       "      <td>0.000000</td>\n",
       "      <td>2.000000</td>\n",
       "    </tr>\n",
       "    <tr>\n",
       "      <td>...</td>\n",
       "      <td>...</td>\n",
       "      <td>...</td>\n",
       "      <td>...</td>\n",
       "      <td>...</td>\n",
       "      <td>...</td>\n",
       "      <td>...</td>\n",
       "      <td>...</td>\n",
       "      <td>...</td>\n",
       "      <td>...</td>\n",
       "      <td>...</td>\n",
       "      <td>...</td>\n",
       "      <td>...</td>\n",
       "      <td>...</td>\n",
       "      <td>...</td>\n",
       "      <td>...</td>\n",
       "      <td>...</td>\n",
       "      <td>...</td>\n",
       "      <td>...</td>\n",
       "      <td>...</td>\n",
       "      <td>...</td>\n",
       "      <td>...</td>\n",
       "    </tr>\n",
       "    <tr>\n",
       "      <td>60975</td>\n",
       "      <td>HOUSEHOLD_2_516_TX_2_evaluation</td>\n",
       "      <td>0.152100</td>\n",
       "      <td>0.152100</td>\n",
       "      <td>0.152100</td>\n",
       "      <td>0.152100</td>\n",
       "      <td>0.152100</td>\n",
       "      <td>0.152100</td>\n",
       "      <td>0.152100</td>\n",
       "      <td>0.152100</td>\n",
       "      <td>0.152100</td>\n",
       "      <td>...</td>\n",
       "      <td>0.152100</td>\n",
       "      <td>0.152100</td>\n",
       "      <td>0.152100</td>\n",
       "      <td>0.152100</td>\n",
       "      <td>0.152100</td>\n",
       "      <td>0.152100</td>\n",
       "      <td>0.152100</td>\n",
       "      <td>0.152100</td>\n",
       "      <td>0.152100</td>\n",
       "      <td>0.152100</td>\n",
       "    </tr>\n",
       "    <tr>\n",
       "      <td>60976</td>\n",
       "      <td>HOUSEHOLD_2_516_TX_3_evaluation</td>\n",
       "      <td>0.244263</td>\n",
       "      <td>0.244263</td>\n",
       "      <td>0.244263</td>\n",
       "      <td>0.244263</td>\n",
       "      <td>0.244263</td>\n",
       "      <td>0.244263</td>\n",
       "      <td>0.244263</td>\n",
       "      <td>0.244263</td>\n",
       "      <td>0.244263</td>\n",
       "      <td>...</td>\n",
       "      <td>0.244263</td>\n",
       "      <td>0.244263</td>\n",
       "      <td>0.244263</td>\n",
       "      <td>0.244263</td>\n",
       "      <td>0.244263</td>\n",
       "      <td>0.244263</td>\n",
       "      <td>0.244263</td>\n",
       "      <td>0.244263</td>\n",
       "      <td>0.244263</td>\n",
       "      <td>0.244263</td>\n",
       "    </tr>\n",
       "    <tr>\n",
       "      <td>60977</td>\n",
       "      <td>HOUSEHOLD_2_516_WI_1_evaluation</td>\n",
       "      <td>0.160400</td>\n",
       "      <td>0.160400</td>\n",
       "      <td>0.160400</td>\n",
       "      <td>0.160400</td>\n",
       "      <td>0.160400</td>\n",
       "      <td>0.160400</td>\n",
       "      <td>0.160400</td>\n",
       "      <td>0.160400</td>\n",
       "      <td>0.160400</td>\n",
       "      <td>...</td>\n",
       "      <td>0.160400</td>\n",
       "      <td>0.160400</td>\n",
       "      <td>0.160400</td>\n",
       "      <td>0.160400</td>\n",
       "      <td>0.160400</td>\n",
       "      <td>0.160400</td>\n",
       "      <td>0.160400</td>\n",
       "      <td>0.160400</td>\n",
       "      <td>0.160400</td>\n",
       "      <td>0.160400</td>\n",
       "    </tr>\n",
       "    <tr>\n",
       "      <td>60978</td>\n",
       "      <td>HOUSEHOLD_2_516_WI_2_evaluation</td>\n",
       "      <td>0.111755</td>\n",
       "      <td>0.111755</td>\n",
       "      <td>0.111755</td>\n",
       "      <td>0.111755</td>\n",
       "      <td>0.111755</td>\n",
       "      <td>0.111755</td>\n",
       "      <td>0.111755</td>\n",
       "      <td>0.111755</td>\n",
       "      <td>0.111755</td>\n",
       "      <td>...</td>\n",
       "      <td>0.111755</td>\n",
       "      <td>0.111755</td>\n",
       "      <td>0.111755</td>\n",
       "      <td>0.111755</td>\n",
       "      <td>0.111755</td>\n",
       "      <td>0.111755</td>\n",
       "      <td>0.111755</td>\n",
       "      <td>0.111755</td>\n",
       "      <td>0.111755</td>\n",
       "      <td>0.111755</td>\n",
       "    </tr>\n",
       "    <tr>\n",
       "      <td>60979</td>\n",
       "      <td>HOUSEHOLD_2_516_WI_3_evaluation</td>\n",
       "      <td>0.111755</td>\n",
       "      <td>0.111755</td>\n",
       "      <td>0.111755</td>\n",
       "      <td>0.111755</td>\n",
       "      <td>0.111755</td>\n",
       "      <td>0.111755</td>\n",
       "      <td>0.111755</td>\n",
       "      <td>0.111755</td>\n",
       "      <td>0.111755</td>\n",
       "      <td>...</td>\n",
       "      <td>0.111755</td>\n",
       "      <td>0.111755</td>\n",
       "      <td>0.111755</td>\n",
       "      <td>0.111755</td>\n",
       "      <td>0.111755</td>\n",
       "      <td>0.111755</td>\n",
       "      <td>0.111755</td>\n",
       "      <td>0.111755</td>\n",
       "      <td>0.111755</td>\n",
       "      <td>0.111755</td>\n",
       "    </tr>\n",
       "  </tbody>\n",
       "</table>\n",
       "<p>60980 rows × 29 columns</p>\n",
       "</div>"
      ],
      "text/plain": [
       "                                    id        F1        F2        F3  \\\n",
       "0          FOODS_1_001_CA_1_validation  2.000000  0.000000  0.000000   \n",
       "1          FOODS_1_001_CA_2_validation  0.000000  3.000000  0.000000   \n",
       "2          FOODS_1_001_CA_3_validation  1.000000  0.000000  1.000000   \n",
       "3          FOODS_1_001_CA_4_validation  0.000000  1.000000  0.000000   \n",
       "4          FOODS_1_001_TX_1_validation  0.000000  0.000000  1.000000   \n",
       "...                                ...       ...       ...       ...   \n",
       "60975  HOUSEHOLD_2_516_TX_2_evaluation  0.152100  0.152100  0.152100   \n",
       "60976  HOUSEHOLD_2_516_TX_3_evaluation  0.244263  0.244263  0.244263   \n",
       "60977  HOUSEHOLD_2_516_WI_1_evaluation  0.160400  0.160400  0.160400   \n",
       "60978  HOUSEHOLD_2_516_WI_2_evaluation  0.111755  0.111755  0.111755   \n",
       "60979  HOUSEHOLD_2_516_WI_3_evaluation  0.111755  0.111755  0.111755   \n",
       "\n",
       "             F4        F5        F6        F7        F8        F9  ...  \\\n",
       "0      0.000000  0.000000  1.000000  1.000000  0.000000  6.000000  ...   \n",
       "1      0.000000  0.000000  1.000000  4.000000  0.000000  0.000000  ...   \n",
       "2      0.000000  8.000000  1.000000  0.000000  0.000000  1.000000  ...   \n",
       "3      0.000000  0.000000  0.000000  1.000000  0.000000  0.000000  ...   \n",
       "4      0.000000  1.000000  0.000000  1.000000  1.000000  1.000000  ...   \n",
       "...         ...       ...       ...       ...       ...       ...  ...   \n",
       "60975  0.152100  0.152100  0.152100  0.152100  0.152100  0.152100  ...   \n",
       "60976  0.244263  0.244263  0.244263  0.244263  0.244263  0.244263  ...   \n",
       "60977  0.160400  0.160400  0.160400  0.160400  0.160400  0.160400  ...   \n",
       "60978  0.111755  0.111755  0.111755  0.111755  0.111755  0.111755  ...   \n",
       "60979  0.111755  0.111755  0.111755  0.111755  0.111755  0.111755  ...   \n",
       "\n",
       "            F19       F20       F21       F22       F23       F24       F25  \\\n",
       "0      2.000000  3.000000  1.000000  0.000000  0.000000  0.000000  1.000000   \n",
       "1      1.000000  0.000000  0.000000  1.000000  1.000000  0.000000  0.000000   \n",
       "2      1.000000  2.000000  2.000000  0.000000  0.000000  1.000000  0.000000   \n",
       "3      1.000000  0.000000  0.000000  0.000000  0.000000  1.000000  1.000000   \n",
       "4      1.000000  1.000000  1.000000  1.000000  5.000000  0.000000  2.000000   \n",
       "...         ...       ...       ...       ...       ...       ...       ...   \n",
       "60975  0.152100  0.152100  0.152100  0.152100  0.152100  0.152100  0.152100   \n",
       "60976  0.244263  0.244263  0.244263  0.244263  0.244263  0.244263  0.244263   \n",
       "60977  0.160400  0.160400  0.160400  0.160400  0.160400  0.160400  0.160400   \n",
       "60978  0.111755  0.111755  0.111755  0.111755  0.111755  0.111755  0.111755   \n",
       "60979  0.111755  0.111755  0.111755  0.111755  0.111755  0.111755  0.111755   \n",
       "\n",
       "            F26       F27       F28  \n",
       "0      0.000000  0.000000  0.000000  \n",
       "1      1.000000  2.000000  0.000000  \n",
       "2      3.000000  2.000000  2.000000  \n",
       "3      0.000000  0.000000  0.000000  \n",
       "4      2.000000  0.000000  2.000000  \n",
       "...         ...       ...       ...  \n",
       "60975  0.152100  0.152100  0.152100  \n",
       "60976  0.244263  0.244263  0.244263  \n",
       "60977  0.160400  0.160400  0.160400  \n",
       "60978  0.111755  0.111755  0.111755  \n",
       "60979  0.111755  0.111755  0.111755  \n",
       "\n",
       "[60980 rows x 29 columns]"
      ]
     },
     "execution_count": 39,
     "metadata": {},
     "output_type": "execute_result"
    }
   ],
   "source": [
    "sub_ppred"
   ]
  },
  {
   "cell_type": "code",
   "execution_count": 23,
   "metadata": {},
   "outputs": [],
   "source": [
    "sub_ppred = sub_ppred.set_index(\"id\",drop=True)\n",
    "sub_ppred = sub_ppred.astype(\"int64\")\n",
    "sub_ppred = sub_ppred.reset_index()"
   ]
  },
  {
   "cell_type": "code",
   "execution_count": 24,
   "metadata": {},
   "outputs": [
    {
     "name": "stderr",
     "output_type": "stream",
     "text": [
      "C:\\Users\\organ\\Anaconda3\\lib\\site-packages\\ipykernel_launcher.py:2: SettingWithCopyWarning: \n",
      "A value is trying to be set on a copy of a slice from a DataFrame.\n",
      "Try using .loc[row_indexer,col_indexer] = value instead\n",
      "\n",
      "See the caveats in the documentation: http://pandas.pydata.org/pandas-docs/stable/user_guide/indexing.html#returning-a-view-versus-a-copy\n",
      "  \n"
     ]
    }
   ],
   "source": [
    "valid = sub_ppred[sub_ppred[\"id\"].str.contains(\"validation\")]\n",
    "valid[\"id\"] = valid[\"id\"].str.replace(\"_validation\",\"_evaluation\")\n",
    "evalu = sub_ppred[sub_ppred[\"id\"].str.contains(\"evaluation\")]"
   ]
  },
  {
   "cell_type": "code",
   "execution_count": 25,
   "metadata": {},
   "outputs": [
    {
     "name": "stdout",
     "output_type": "stream",
     "text": [
      "validation row: 30490\n",
      "evaluation row: 30490\n"
     ]
    }
   ],
   "source": [
    "print(\"validation row:\",len(valid))\n",
    "print(\"evaluation row:\",len(evalu))"
   ]
  },
  {
   "cell_type": "code",
   "execution_count": 26,
   "metadata": {},
   "outputs": [],
   "source": [
    "valid = pd.merge(valid,sales_train_val[['id', 'item_id', 'dept_id', 'cat_id', 'store_id', 'state_id']],on=\"id\",how=\"left\")\n",
    "evalu = pd.merge(evalu,sales_train_val[['id', 'item_id', 'dept_id', 'cat_id', 'store_id', 'state_id']],on=\"id\",how=\"left\")\n",
    "\n",
    "valid_agg = get_agg_df(valid)\n",
    "evalu_agg = get_agg_df(evalu)"
   ]
  },
  {
   "cell_type": "code",
   "execution_count": 27,
   "metadata": {},
   "outputs": [],
   "source": [
    "valid_agg.to_csv(\"agg_ppred_valid.csv\",index=False)\n",
    "evalu_agg.to_csv(\"agg_ppred_evalu.csv\",index=False)"
   ]
  },
  {
   "cell_type": "code",
   "execution_count": 28,
   "metadata": {},
   "outputs": [],
   "source": [
    "valid_agg = valid_agg.set_index(\"id\",drop=True).T\n",
    "evalu_agg = evalu_agg.set_index(\"id\",drop=True).T"
   ]
  },
  {
   "cell_type": "code",
   "execution_count": 29,
   "metadata": {},
   "outputs": [
    {
     "data": {
      "image/png": "[encoded data removed]",
      "text/plain": [
       "<Figure size 432x288 with 1 Axes>"
      ]
     },
     "metadata": {
      "needs_background": "light"
     },
     "output_type": "display_data"
    },
    {
     "data": {
      "image/png": "[encoded data removed]",
      "text/plain": [
       "<Figure size 432x288 with 1 Axes>"
      ]
     },
     "metadata": {
      "needs_background": "light"
     },
     "output_type": "display_data"
    }
   ],
   "source": [
    "plt.hist(valid_agg[\"Total_X\"],bins=50)\n",
    "plt.grid(True)\n",
    "plt.show()\n",
    "\n",
    "plt.hist(evalu_agg[\"Total_X\"],bins=50)\n",
    "plt.grid(True)\n",
    "plt.show()"
   ]
  },
  {
   "cell_type": "code",
   "execution_count": 30,
   "metadata": {},
   "outputs": [],
   "source": [
    "valid = valid[['id', 'F1', 'F2', 'F3', 'F4', 'F5', 'F6', 'F7', 'F8', 'F9', 'F10',\n",
    "       'F11', 'F12', 'F13', 'F14', 'F15', 'F16', 'F17', 'F18', 'F19', 'F20',\n",
    "       'F21', 'F22', 'F23', 'F24', 'F25', 'F26', 'F27', 'F28']]\n",
    "evalu = evalu[['id', 'F1', 'F2', 'F3', 'F4', 'F5', 'F6', 'F7', 'F8', 'F9', 'F10',\n",
    "       'F11', 'F12', 'F13', 'F14', 'F15', 'F16', 'F17', 'F18', 'F19', 'F20',\n",
    "       'F21', 'F22', 'F23', 'F24', 'F25', 'F26', 'F27', 'F28']]"
   ]
  },
  {
   "cell_type": "code",
   "execution_count": 31,
   "metadata": {},
   "outputs": [],
   "source": [
    "valid = valid.set_index(\"id\",drop=True).T\n",
    "evalu = evalu.set_index(\"id\",drop=True).T"
   ]
  },
  {
   "cell_type": "code",
   "execution_count": 32,
   "metadata": {},
   "outputs": [
    {
     "name": "stdout",
     "output_type": "stream",
     "text": [
      "valid 0の数: 0\n",
      "evalu 0の数: 0\n"
     ]
    }
   ],
   "source": [
    "print(\"valid 0の数:\",(valid < 0).sum().sum())\n",
    "print(\"evalu 0の数:\",(evalu < 0).sum().sum())"
   ]
  },
  {
   "cell_type": "code",
   "execution_count": 33,
   "metadata": {},
   "outputs": [
    {
     "data": {
      "image/png": "[encoded data removed]",
      "text/plain": [
       "<Figure size 432x288 with 1 Axes>"
      ]
     },
     "metadata": {
      "needs_background": "light"
     },
     "output_type": "display_data"
    }
   ],
   "source": [
    "plt.title(\"raw submisssion csv\")\n",
    "plt.hist(np.reshape(valid.values,(1,-1))[0,:],label=\"valid\",bins=50,alpha=0.4,range=(0,10))\n",
    "plt.hist(np.reshape(evalu.values,(1,-1))[0,:],label=\"evalu\",bins=50,alpha=0.4,range=(0,10))\n",
    "plt.grid(True)\n",
    "plt.legend()\n",
    "plt.show()"
   ]
  },
  {
   "cell_type": "code",
   "execution_count": 34,
   "metadata": {},
   "outputs": [
    {
     "data": {
      "image/png": "[encoded data removed]",
      "text/plain": [
       "<Figure size 432x288 with 1 Axes>"
      ]
     },
     "metadata": {
      "needs_background": "light"
     },
     "output_type": "display_data"
    },
    {
     "data": {
      "image/png": "[encoded data removed]",
      "text/plain": [
       "<Figure size 432x288 with 1 Axes>"
      ]
     },
     "metadata": {
      "needs_background": "light"
     },
     "output_type": "display_data"
    },
    {
     "data": {
      "image/png": "[encoded data removed]",
      "text/plain": [
       "<Figure size 432x288 with 1 Axes>"
      ]
     },
     "metadata": {
      "needs_background": "light"
     },
     "output_type": "display_data"
    },
    {
     "data": {
      "image/png": "[encoded data removed]",
      "text/plain": [
       "<Figure size 432x288 with 1 Axes>"
      ]
     },
     "metadata": {
      "needs_background": "light"
     },
     "output_type": "display_data"
    },
    {
     "data": {
      "image/png": "[encoded data removed]",
      "text/plain": [
       "<Figure size 432x288 with 1 Axes>"
      ]
     },
     "metadata": {
      "needs_background": "light"
     },
     "output_type": "display_data"
    }
   ],
   "source": [
    "for col in evalu_agg.columns[:5]:\n",
    "    fig = plt.figure()\n",
    "    plt.plot(range(1,29),valid_agg[col].values,label=\"valid\")\n",
    "    plt.plot(range(29,29+28),evalu_agg[col].values,label=\"evalu\")\n",
    "    #plt.ylim(0,60000)\n",
    "    plt.grid()\n",
    "    plt.title(\"evaluation\")\n",
    "    plt.legend()\n",
    "    plt.show()"
   ]
  },
  {
   "cell_type": "code",
   "execution_count": null,
   "metadata": {},
   "outputs": [],
   "source": []
  }
 ],
 "metadata": {
  "kernelspec": {
   "display_name": "Python 3",
   "language": "python",
   "name": "python3"
  },
  "language_info": {
   "codemirror_mode": {
    "name": "ipython",
    "version": 3
   },
   "file_extension": ".py",
   "mimetype": "text/x-python",
   "name": "python",
   "nbconvert_exporter": "python",
   "pygments_lexer": "ipython3",
   "version": "3.7.4"
  }
 },
 "nbformat": 4,
 "nbformat_minor": 4
}
