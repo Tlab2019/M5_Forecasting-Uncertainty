{
 "cells": [
  {
   "cell_type": "markdown",
   "metadata": {},
   "source": [
    "## **XGBoost Regression**\n",
    "https://rdrr.io/cran/xgboost/man/xgb.cv.html"
   ]
  },
  {
   "cell_type": "code",
   "execution_count": 1,
   "metadata": {},
   "outputs": [],
   "source": [
    "%load_ext autoreload\n",
    "%autoreload 2\n",
    "\n",
    "import pandas as pd\n",
    "import numpy as np\n",
    "import os\n",
    "import glob\n",
    "import pickle\n",
    "import matplotlib.pyplot as plt\n",
    "import matplotlib as mpl\n",
    "mpl.rcParams['agg.path.chunksize'] = 100000\n",
    "import gc\n",
    "from myUtils import *\n",
    "from feature_generator import feature_v1, feature_v2, feature_v3\n",
    "import xgboost as xgb"
   ]
  },
  {
   "cell_type": "code",
   "execution_count": 2,
   "metadata": {},
   "outputs": [
    {
     "name": "stdout",
     "output_type": "stream",
     "text": [
      "-- column check completed --\n",
      "  columns are satisfied\n",
      "--  features_ver3  --\n",
      "dim: 25\n",
      "N: 11982570\n",
      "-----------------\n"
     ]
    }
   ],
   "source": [
    "###################################################################\n",
    "# make features\n",
    "##################################################################\n",
    "#feature_maker = feature_v1.FeaturesMaker_v1(target_col=\"item_cnt\")\n",
    "feature_maker = feature_v3.FeaturesMaker_v3(target_col=\"item_cnt\")\n",
    "\n",
    "base_data = \"sales_train_eval_365\"\n",
    "data = pd.read_pickle(os.path.join(\"mydata\",base_data+\".pickle\"))\n",
    "#data = pd.read_pickle(os.path.join(\"mydata\",\"sales_train_eval.pickle\"))\n",
    "data = feature_maker.make_feature(data)\n",
    "\n",
    "data_path = os.path.join(\"mydata\",base_data+\"_\"+feature_maker.name+\".pickle\")\n",
    "with open(data_path,\"wb\") as f:\n",
    "    pickle.dump(data,f)"
   ]
  },
  {
   "cell_type": "code",
   "execution_count": 3,
   "metadata": {},
   "outputs": [
    {
     "name": "stdout",
     "output_type": "stream",
     "text": [
      "item_id                          0\n",
      "dept_id                          0\n",
      "cat_id                           0\n",
      "store_id                         0\n",
      "state_id                         0\n",
      "sold_lag_28                 853720\n",
      "sold_lag_35                 640290\n",
      "sold_lag_42                 426860\n",
      "sold_lag_49                 213430\n",
      "sold_lag_56                      0\n",
      "item_sold_avg                    0\n",
      "state_sold_avg                   0\n",
      "store_sold_avg                   0\n",
      "cat_sold_avg                     0\n",
      "dept_sold_avg                    0\n",
      "cat_dept_sold_avg                0\n",
      "store_item_sold_avg              0\n",
      "cat_item_sold_avg                0\n",
      "dept_item_sold_avg               0\n",
      "state_store_sold_avg             0\n",
      "state_store_cat_sold_avg         0\n",
      "store_cat_dept_sold_avg          0\n",
      "rolling_sold_mean           853720\n",
      "expanding_sold_mean              0\n",
      "selling_trend               853720\n",
      "dtype: int64\n",
      "item_id                          0\n",
      "dept_id                          0\n",
      "cat_id                           0\n",
      "store_id                         0\n",
      "state_id                         0\n",
      "sold_lag_28                      0\n",
      "sold_lag_35                      0\n",
      "sold_lag_42                      0\n",
      "sold_lag_49                      0\n",
      "sold_lag_56                      0\n",
      "item_sold_avg                    0\n",
      "state_sold_avg                   0\n",
      "store_sold_avg                   0\n",
      "cat_sold_avg                     0\n",
      "dept_sold_avg                    0\n",
      "cat_dept_sold_avg                0\n",
      "store_item_sold_avg              0\n",
      "cat_item_sold_avg                0\n",
      "dept_item_sold_avg               0\n",
      "state_store_sold_avg             0\n",
      "state_store_cat_sold_avg         0\n",
      "store_cat_dept_sold_avg          0\n",
      "rolling_sold_mean           853720\n",
      "expanding_sold_mean              0\n",
      "selling_trend               853720\n",
      "dtype: int64\n",
      "item_id                           0\n",
      "dept_id                           0\n",
      "cat_id                            0\n",
      "store_id                          0\n",
      "state_id                          0\n",
      "sold_lag_28                  853720\n",
      "sold_lag_35                 1067150\n",
      "sold_lag_42                 1280580\n",
      "sold_lag_49                 1494010\n",
      "sold_lag_56                 1707440\n",
      "item_sold_avg                     0\n",
      "state_sold_avg                    0\n",
      "store_sold_avg                    0\n",
      "cat_sold_avg                      0\n",
      "dept_sold_avg                     0\n",
      "cat_dept_sold_avg                 0\n",
      "store_item_sold_avg               0\n",
      "cat_item_sold_avg                 0\n",
      "dept_item_sold_avg                0\n",
      "state_store_sold_avg              0\n",
      "state_store_cat_sold_avg          0\n",
      "store_cat_dept_sold_avg           0\n",
      "rolling_sold_mean            182940\n",
      "expanding_sold_mean           30490\n",
      "selling_trend                     0\n",
      "dtype: int64\n"
     ]
    }
   ],
   "source": [
    "print(data[\"evaluation\"][0].isna().sum())\n",
    "print(data[\"validation\"][0].isna().sum())\n",
    "print(data[\"train\"][0].isna().sum())"
   ]
  },
  {
   "cell_type": "code",
   "execution_count": 15,
   "metadata": {},
   "outputs": [
    {
     "data": {
      "image/png": "[encoded data removed]",
      "text/plain": [
       "<Figure size 432x288 with 1 Axes>"
      ]
     },
     "metadata": {
      "needs_background": "light"
     },
     "output_type": "display_data"
    },
    {
     "data": {
      "image/png": "[encoded data removed]",
      "text/plain": [
       "<Figure size 432x288 with 1 Axes>"
      ]
     },
     "metadata": {
      "needs_background": "light"
     },
     "output_type": "display_data"
    },
    {
     "data": {
      "image/png": "[encoded data removed]",
      "text/plain": [
       "<Figure size 432x288 with 1 Axes>"
      ]
     },
     "metadata": {
      "needs_background": "light"
     },
     "output_type": "display_data"
    },
    {
     "data": {
      "text/plain": [
       "id                               d     \n",
       "HOUSEHOLD_2_436_CA_3_evaluation  d_1945   NaN\n",
       "HOUSEHOLD_2_303_CA_2_evaluation  d_1964   NaN\n",
       "FOODS_2_032_WI_1_evaluation      d_1954   NaN\n",
       "HOUSEHOLD_2_138_WI_3_evaluation  d_1948   NaN\n",
       "HOUSEHOLD_2_431_TX_1_evaluation  d_1969   NaN\n",
       "                                           ..\n",
       "FOODS_3_324_WI_1_evaluation      d_1943   NaN\n",
       "FOODS_3_678_TX_3_evaluation      d_1962   NaN\n",
       "HOBBIES_1_314_CA_2_evaluation    d_1967   NaN\n",
       "HOBBIES_1_127_CA_3_evaluation    d_1944   NaN\n",
       "HOBBIES_2_104_TX_1_evaluation    d_1956   NaN\n",
       "Name: sold_lag_28, Length: 5000, dtype: float16"
      ]
     },
     "execution_count": 15,
     "metadata": {},
     "output_type": "execute_result"
    }
   ],
   "source": [
    "col = \"sold_lag_28\"\n",
    "data[\"train\"][0].sample(n=5000)[col].hist()\n",
    "plt.show()\n",
    "data[\"validation\"][0].sample(n=5000)[col].hist()\n",
    "plt.show()\n",
    "data[\"evaluation\"][0].sample(n=5000)[col].hist()\n",
    "plt.show()\n",
    "data[\"evaluation\"][0].sample(n=5000)[col]"
   ]
  },
  {
   "cell_type": "code",
   "execution_count": 5,
   "metadata": {},
   "outputs": [
    {
     "name": "stdout",
     "output_type": "stream",
     "text": [
      "loading trained model...\n",
      "  -- completed\n",
      "\n"
     ]
    }
   ],
   "source": [
    "model_path = os.path.join(\"models\",\"XGBoost_\"+feature_maker.name+\".mdl\")\n",
    "\n",
    "if True:#os.path.exists(model_path):\n",
    "    print(\"loading trained model...\")\n",
    "    model = xgb.XGBRegressor()\n",
    "    model.load_model(model_path)\n",
    "    \n",
    "else:\n",
    "    print(\"start training XGBoost\")\n",
    "    model = xgb.XGBRegressor(objective=\"reg:squarederror\",\n",
    "                             tree_method=\"gpu_hist\",\n",
    "                             random_state=0,\n",
    "                             verbose=2,\n",
    "                             n_estimators=1000,\n",
    "                             )\n",
    "\n",
    "    model.fit(X=data[\"train\"][0], y=data[\"train\"][1], \n",
    "              #sample_weight=None, \n",
    "              #base_margin=None, \n",
    "              eval_set=[data[\"train\"],data[\"validation\"]], \n",
    "              #eval_metric=None, \n",
    "              early_stopping_rounds=100, \n",
    "              verbose=True, \n",
    "              #xgb_model=None, \n",
    "              #sample_weight_eval_set=None\n",
    "              )\n",
    "    model.save_model(model_path)\n",
    "print(\"  -- completed\\n\")"
   ]
  },
  {
   "cell_type": "markdown",
   "metadata": {},
   "source": [
    "#### [prediction]"
   ]
  },
  {
   "cell_type": "code",
   "execution_count": 70,
   "metadata": {},
   "outputs": [
    {
     "name": "stdout",
     "output_type": "stream",
     "text": [
      "start prediction\n",
      "  -- completed\n",
      "\n"
     ]
    }
   ],
   "source": [
    "# prediction\n",
    "print(\"start prediction\")\n",
    "pred_mask = data[\"evaluation\"][1].isna()\n",
    "data[\"evaluation\"][1].loc[pred_mask] = model.predict(data[\"evaluation\"][0])\n",
    "print(\"  -- completed\\n\")"
   ]
  },
  {
   "cell_type": "markdown",
   "metadata": {},
   "source": [
    "#### [submission]"
   ]
  },
  {
   "cell_type": "code",
   "execution_count": 71,
   "metadata": {},
   "outputs": [
    {
     "name": "stdout",
     "output_type": "stream",
     "text": [
      "start submission\n",
      "  -- completed\n"
     ]
    }
   ],
   "source": [
    "# submission \n",
    "print(\"start submission\")\n",
    "sub_path = os.path.join(\"submission_point\",\"XGBoost_\"+feature_maker.name+\"_submission.csv\")\n",
    "\n",
    "\n",
    "sub_cols = [\"id\"] + [f\"F{i}\" for i in range(1, 29)]\n",
    "\n",
    "valid = data[\"validation\"][1]\n",
    "evalu = data[\"evaluation\"][1]\n",
    "\n",
    "del data\n",
    "gc.collect()\n",
    "\n",
    "valid = pd.DataFrame(valid.values,\n",
    "                     index=valid.index,\n",
    "                     columns=[feature_maker.target_col])\n",
    "evalu = pd.DataFrame(evalu.values,\n",
    "                     index=evalu.index,\n",
    "                     columns=[feature_maker.target_col])\n",
    "\n",
    "valid = valid.reset_index()\n",
    "evalu = evalu.reset_index()\n",
    "\n",
    "valid = pd.pivot(valid,\n",
    "                 index=\"id\", \n",
    "                 columns=\"d\",\n",
    "                 values=feature_maker.target_col)\n",
    "evalu = pd.pivot(evalu,\n",
    "                 index=\"id\", \n",
    "                 columns=\"d\", \n",
    "                 values=feature_maker.target_col)\n",
    "\n",
    "valid = valid.reset_index()\n",
    "evalu = evalu.reset_index()\n",
    "\n",
    "valid.columns = sub_cols\n",
    "evalu.columns = sub_cols\n",
    "\n",
    "valid[\"id\"] = valid[\"id\"].str.replace(\"_evaluation\",\"_validation\")\n",
    "\n",
    "pd.concat([valid,evalu]).to_csv(sub_path,index=False)\n",
    "print(\"  -- completed\")"
   ]
  }
 ],
 "metadata": {
  "kernelspec": {
   "display_name": "Python 3",
   "language": "python",
   "name": "python3"
  },
  "language_info": {
   "codemirror_mode": {
    "name": "ipython",
    "version": 3
   },
   "file_extension": ".py",
   "mimetype": "text/x-python",
   "name": "python",
   "nbconvert_exporter": "python",
   "pygments_lexer": "ipython3",
   "version": "3.7.4"
  }
 },
 "nbformat": 4,
 "nbformat_minor": 4
}
