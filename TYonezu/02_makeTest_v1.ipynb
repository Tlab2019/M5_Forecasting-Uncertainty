{
 "cells": [
  {
   "cell_type": "markdown",
   "metadata": {},
   "source": [
    "### **特徴量 ver1**\n",
    "店舗の情報, 商品の情報, イベント情報, 日時情報, 価格情報"
   ]
  },
  {
   "cell_type": "code",
   "execution_count": 1,
   "metadata": {},
   "outputs": [],
   "source": [
    "import pandas as pd\n",
    "import numpy as np\n",
    "import os\n",
    "import glob\n",
    "import matplotlib.pyplot as plt\n",
    "import matplotlib as mpl\n",
    "from myUtils import reduce_mem_usage,encode_categorical\n",
    "mpl.rcParams['agg.path.chunksize'] = 100000"
   ]
  },
  {
   "cell_type": "markdown",
   "metadata": {},
   "source": [
    "#### **submitから特徴量を作っていく**"
   ]
  },
  {
   "cell_type": "code",
   "execution_count": 2,
   "metadata": {},
   "outputs": [],
   "source": [
    "submission = pd.read_csv(os.path.join(\"rawdata\",\"sample_submission.csv\"))"
   ]
  },
  {
   "cell_type": "code",
   "execution_count": null,
   "metadata": {},
   "outputs": [],
   "source": [
    "validation = submission.iloc[0:int(len(submission)/2),:]\n",
    "validation = validation.iloc[-30490:,:]\n",
    "\n",
    "evaluation = submission.iloc[int(len(submission)/2):,:]\n",
    "evaluation = evaluation.iloc[-30490:,:]\n",
    "\n",
    "forecast_submission = pd.concat([validation,evaluation])\n",
    "forecast_submission"
   ]
  }
 ],
 "metadata": {
  "kernelspec": {
   "display_name": "Python 3",
   "language": "python",
   "name": "python3"
  },
  "language_info": {
   "codemirror_mode": {
    "name": "ipython",
    "version": 3
   },
   "file_extension": ".py",
   "mimetype": "text/x-python",
   "name": "python",
   "nbconvert_exporter": "python",
   "pygments_lexer": "ipython3",
   "version": "3.7.4"
  }
 },
 "nbformat": 4,
 "nbformat_minor": 4
}
