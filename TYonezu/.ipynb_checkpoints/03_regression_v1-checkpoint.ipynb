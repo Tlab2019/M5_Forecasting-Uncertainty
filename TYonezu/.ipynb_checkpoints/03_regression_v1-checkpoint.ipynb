{
 "cells": [
  {
   "cell_type": "markdown",
   "metadata": {},
   "source": [
    "### **Regression**\n",
    "regression with various models"
   ]
  },
  {
   "cell_type": "code",
   "execution_count": 6,
   "metadata": {},
   "outputs": [],
   "source": [
    "import pandas as pd\n",
    "import numpy as np\n",
    "import os\n",
    "import glob\n",
    "import pickle\n",
    "import matplotlib.pyplot as plt\n",
    "import matplotlib as mpl\n",
    "mpl.rcParams['agg.path.chunksize'] = 100000"
   ]
  },
  {
   "cell_type": "code",
   "execution_count": 2,
   "metadata": {},
   "outputs": [],
   "source": [
    "data_path = os.path.join('data',\"features_v1\",\"features_v1_split_*.pickle\")\n",
    "data = pd.concat(map(pd.read_pickle, glob.glob(data_path))) #分割ファイルを結合して読み出し"
   ]
  },
  {
   "cell_type": "code",
   "execution_count": 3,
   "metadata": {},
   "outputs": [],
   "source": [
    "target = \"item_cnt\"\n",
    "features = [\n",
    "            #'id',\n",
    "            'item_id',\n",
    "            'dept_id',\n",
    "            'cat_id',\n",
    "            'store_id',\n",
    "            'state_id',\n",
    "            'd',\n",
    "            #'item_cnt',\n",
    "            #'date',\n",
    "            #'wm_yr_wk',\n",
    "            #'weekday',\n",
    "            'wday',\n",
    "            'month',\n",
    "            'year',\n",
    "            'event_name_1',\n",
    "            'event_type_1',\n",
    "            'event_name_2',\n",
    "            'event_type_2',\n",
    "            'snap_CA',\n",
    "            'snap_TX',\n",
    "            'snap_WI',\n",
    "            'price-median',\n",
    "            'price-mean',\n",
    "            'price-max',\n",
    "            'price-min'\n",
    "           ]"
   ]
  },
  {
   "cell_type": "markdown",
   "metadata": {},
   "source": [
    "### **XGBoost Regression**"
   ]
  },
  {
   "cell_type": "code",
   "execution_count": null,
   "metadata": {},
   "outputs": [],
   "source": [
    "import xgboost as xgb\n",
    "\n",
    "train = data[data[target].notna()]\n",
    "\n",
    "trainX = train[features]\n",
    "trainY = train[target]\n",
    "\n",
    "model = xgb.XGBRegressor(tree_method='gpu_hist')\n",
    "model.fit(trainX,trainY)\n",
    "\n",
    "model_path = os.path.join(\"models\",\"XGBoost_v1.mdl\")\n",
    "with open(model_path,\"wb\") as f:\n",
    "    pickle.dump(reg,f)"
   ]
  },
  {
   "cell_type": "code",
   "execution_count": null,
   "metadata": {},
   "outputs": [],
   "source": []
  },
  {
   "cell_type": "code",
   "execution_count": null,
   "metadata": {},
   "outputs": [],
   "source": [
    "sub_path = os.path.join(\"submission\",\"XGBoost_v1_sub.csv\")\n",
    "\n",
    "\n",
    "# submit csv-file\n",
    "import subprocess\n",
    "\n",
    "command = [\"kaggle\",\"competitions\",\"submit\",\"-c\",\"m5-forecasting-uncertainty\",\"-f\",sub_path,\"-m\",\"XGBoost_v1\"]\n",
    "subprocess.check_output(command)"
   ]
  }
 ],
 "metadata": {
  "kernelspec": {
   "display_name": "Python 3",
   "language": "python",
   "name": "python3"
  },
  "language_info": {
   "codemirror_mode": {
    "name": "ipython",
    "version": 3
   },
   "file_extension": ".py",
   "mimetype": "text/x-python",
   "name": "python",
   "nbconvert_exporter": "python",
   "pygments_lexer": "ipython3",
   "version": "3.7.4"
  }
 },
 "nbformat": 4,
 "nbformat_minor": 4
}
