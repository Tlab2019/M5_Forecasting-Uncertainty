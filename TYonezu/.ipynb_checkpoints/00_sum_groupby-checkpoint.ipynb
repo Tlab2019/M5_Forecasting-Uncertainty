{
 "cells": [
  {
   "cell_type": "markdown",
   "metadata": {},
   "source": [
    "## **データ整理**"
   ]
  },
  {
   "cell_type": "code",
   "execution_count": 1,
   "metadata": {},
   "outputs": [],
   "source": [
    "import pandas as pd\n",
    "import numpy as np\n",
    "import matplotlib.pyplot as plt\n",
    "import glob\n",
    "import os\n",
    "from tqdm import tqdm\n",
    "\n",
    "from myUtils import reduce_mem_usage\n",
    "\n",
    "import gc"
   ]
  },
  {
   "cell_type": "markdown",
   "metadata": {},
   "source": [
    "#### [参考]submissionファイルに合わせてaggurigationした学習データ作成\n",
    "https://www.kaggle.com/sachina/convert-accuracy-to-uncertainty-poisson"
   ]
  },
  {
   "cell_type": "code",
   "execution_count": 2,
   "metadata": {},
   "outputs": [],
   "source": [
    "def createTrainSet(sales_train_s,train_sales, name, group_level, X = False):\n",
    "    sales_total = CreateSales(train_sales,name, group_level)\n",
    "    if(X == True):\n",
    "        sales_total = sales_total.rename(index = lambda s:  s + '_X')\n",
    "    sales_train_s = sales_train_s.append(sales_total)\n",
    "    return(sales_train_s)\n",
    "\n",
    "def get_agg_df(train_sales):\n",
    "    total = ['Total']\n",
    "    train_sales['Total'] = 'Total'\n",
    "    train_sales['state_cat'] = train_sales.state_id + \"_\" + train_sales.cat_id\n",
    "    train_sales['state_dept'] = train_sales.state_id + \"_\" + train_sales.dept_id\n",
    "    train_sales['store_cat'] = train_sales.store_id + \"_\" + train_sales.cat_id\n",
    "    train_sales['store_dept'] = train_sales.store_id + \"_\" + train_sales.dept_id\n",
    "    train_sales['state_item'] = train_sales.state_id + \"_\" + train_sales.item_id\n",
    "    train_sales['item_store'] = train_sales.item_id + \"_\" + train_sales.store_id\n",
    "    total = ['Total']\n",
    "    states = ['CA', 'TX', 'WI']\n",
    "    num_stores = [('CA',4), ('TX',3), ('WI',3)]\n",
    "    stores = [x[0] + \"_\" + str(y + 1) for x in num_stores for y in range(x[1])]\n",
    "    cats = ['FOODS', 'HOBBIES', 'HOUSEHOLD']\n",
    "    num_depts = [('FOODS',3), ('HOBBIES',2), ('HOUSEHOLD',2)]\n",
    "    depts = [x[0] + \"_\" + str(y + 1) for x in num_depts for y in range(x[1])]\n",
    "    state_cats = [state + \"_\" + cat for state in states for cat in cats]\n",
    "    state_depts = [state + \"_\" + dept for state in states for dept in depts]\n",
    "    store_cats = [store + \"_\" + cat for store in stores for cat in cats]\n",
    "    store_depts = [store + \"_\" + dept for store in stores for dept in depts]\n",
    "    prods = list(train_sales.item_id.unique())\n",
    "    prod_state = [prod + \"_\" + state for prod in prods for state in states]\n",
    "    prod_store = [prod + \"_\" + store for prod in prods for store in stores]\n",
    "    cols = [i for i in train_sales.columns if i.startswith('F')]\n",
    "    sales_train_s = train_sales[cols]\n",
    "    sales_train_s = pd.DataFrame()\n",
    "    sales_train_s = createTrainSet(sales_train_s,train_sales, total, 'Total', X=True) #1\n",
    "    sales_train_s = createTrainSet(sales_train_s, train_sales,states, 'state_id', X=True) #2\n",
    "    sales_train_s = createTrainSet(sales_train_s,train_sales, stores, 'store_id', X=True) #3\n",
    "    sales_train_s = createTrainSet(sales_train_s,train_sales, cats, 'cat_id', X=True) #4\n",
    "    sales_train_s = createTrainSet(sales_train_s,train_sales, depts, 'dept_id', X=True) #5\n",
    "    sales_train_s = createTrainSet(sales_train_s,train_sales, state_cats, 'state_cat') #6\n",
    "    sales_train_s = createTrainSet(sales_train_s,train_sales, state_depts, 'state_dept') #7\n",
    "    sales_train_s = createTrainSet(sales_train_s,train_sales, store_cats, 'store_cat') #8\n",
    "    sales_train_s = createTrainSet(sales_train_s,train_sales, store_depts, 'store_dept') #9\n",
    "    sales_train_s = createTrainSet(sales_train_s,train_sales, prods, 'item_id', X=True) #10\n",
    "    sales_train_s = createTrainSet(sales_train_s,train_sales, prod_state, 'state_item') #11\n",
    "    sales_train_s = createTrainSet(sales_train_s,train_sales, prod_store, 'item_store')\n",
    "    sales_train_s['id'] = sales_train_s.index\n",
    "    return(sales_train_s)"
   ]
  },
  {
   "cell_type": "code",
   "execution_count": null,
   "metadata": {},
   "outputs": [],
   "source": [
    "sales_train_val = pd.read_csv(os.path.join(\"rawdata\",\"sales_train_validation.csv\")) # データの読み出し\n",
    "sales_train_val = sales_train_val.set_index([\"id\",\"item_id\",\"dept_id\",\"cat_id\",\"store_id\",\"state_id\"],drop=True)\n",
    "display(sales_train_val)"
   ]
  },
  {
   "cell_type": "code",
   "execution_count": null,
   "metadata": {},
   "outputs": [],
   "source": [
    "get_agg_df(sales_train_val)"
   ]
  }
 ],
 "metadata": {
  "kernelspec": {
   "display_name": "Python 3",
   "language": "python",
   "name": "python3"
  },
  "language_info": {
   "codemirror_mode": {
    "name": "ipython",
    "version": 3
   },
   "file_extension": ".py",
   "mimetype": "text/x-python",
   "name": "python",
   "nbconvert_exporter": "python",
   "pygments_lexer": "ipython3",
   "version": "3.7.4"
  }
 },
 "nbformat": 4,
 "nbformat_minor": 4
}
